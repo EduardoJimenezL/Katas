{
 "cells": [
  {
   "cell_type": "markdown",
   "metadata": {},
   "source": [
    "# Ejercicio 1."
   ]
  },
  {
   "cell_type": "code",
   "execution_count": 14,
   "metadata": {},
   "outputs": [
    {
     "name": "stdout",
     "output_type": "stream",
     "text": [
      "628949330\n",
      "390577533.93\n"
     ]
    }
   ],
   "source": [
    "first_planet = 149597870\n",
    "second_planet = 778547200\n",
    "\n",
    "distance_km = second_planet - first_planet\n",
    "print(distance_km)\n",
    "\n",
    "distance_mi = distance_km * 0.621\n",
    "print(distance_mi)\n",
    "\n",
    "\n"
   ]
  },
  {
   "cell_type": "markdown",
   "metadata": {},
   "source": [
    "# Ejerciocio 2"
   ]
  },
  {
   "cell_type": "code",
   "execution_count": 15,
   "metadata": {},
   "outputs": [
    {
     "name": "stdout",
     "output_type": "stream",
     "text": [
      "628949330\n",
      "390577533.93\n"
     ]
    }
   ],
   "source": [
    "\n",
    "first_planet = input(149597870)\n",
    "second_planet = input(778547200)\n",
    "\n",
    "first_planet = int(149597870)\n",
    "second_planet = int(778547200)\n",
    "\n",
    "distance_km = second_planet - first_planet\n",
    "print(distance_km)\n",
    "\n",
    "distance_mi = distance_km * 0.621\n",
    "print(abs(distance_mi))"
   ]
  }
 ],
 "metadata": {
  "interpreter": {
   "hash": "87bae19962d6243067c3e14e2272729f1ec0eadda39968d441562464af73af63"
  },
  "kernelspec": {
   "display_name": "Python 3.10.2 64-bit",
   "language": "python",
   "name": "python3"
  },
  "language_info": {
   "codemirror_mode": {
    "name": "ipython",
    "version": 3
   },
   "file_extension": ".py",
   "mimetype": "text/x-python",
   "name": "python",
   "nbconvert_exporter": "python",
   "pygments_lexer": "ipython3",
   "version": "3.10.2"
  },
  "orig_nbformat": 4
 },
 "nbformat": 4,
 "nbformat_minor": 2
}
