{
 "cells": [
  {
   "cell_type": "code",
   "execution_count": 29,
   "metadata": {},
   "outputs": [
    {
     "name": "stdout",
     "output_type": "stream",
     "text": [
      "Un asteroide podíra causar mucho daño\n"
     ]
    }
   ],
   "source": [
    "asteroide = 49\n",
    "if asteroide > 25:\n",
    "    print('Un asteroide podíra causar mucho daño')\n",
    "else:\n",
    "    print('Todo seguro')\n"
   ]
  },
  {
   "cell_type": "code",
   "execution_count": 30,
   "metadata": {},
   "outputs": [
    {
     "name": "stdout",
     "output_type": "stream",
     "text": [
      "Todo seguro\n"
     ]
    }
   ],
   "source": [
    "asteroide = 19\n",
    "if asteroide > 20:\n",
    "    print('Pide un deseo!')\n",
    "elif asteroide == 20:\n",
    "    print('Pide un deseo!')\n",
    "else:\n",
    "    print('Todo seguro')"
   ]
  },
  {
   "cell_type": "code",
   "execution_count": 31,
   "metadata": {},
   "outputs": [
    {
     "name": "stdout",
     "output_type": "stream",
     "text": [
      "Pide un deseo!\n"
     ]
    }
   ],
   "source": [
    "velocidad_asteroide = 25\n",
    "tamano_asteroide = 40\n",
    "if velocidad_asteroide > 25 and tamano_asteroide > 25:\n",
    "    print('Cuidado, eso podría destruir la Tierra')\n",
    "elif velocidad_asteroide >= 20:\n",
    "    print('Pide un deseo!')\n",
    "elif tamano_asteroide < 25:\n",
    "    print('Todo seguro')\n",
    "else:\n",
    "    print('Todo seguro')"
   ]
  }
 ],
 "metadata": {
  "interpreter": {
   "hash": "87bae19962d6243067c3e14e2272729f1ec0eadda39968d441562464af73af63"
  },
  "kernelspec": {
   "display_name": "Python 3.10.2 64-bit",
   "language": "python",
   "name": "python3"
  },
  "language_info": {
   "codemirror_mode": {
    "name": "ipython",
    "version": 3
   },
   "file_extension": ".py",
   "mimetype": "text/x-python",
   "name": "python",
   "nbconvert_exporter": "python",
   "pygments_lexer": "ipython3",
   "version": "3.10.2"
  },
  "orig_nbformat": 4
 },
 "nbformat": 4,
 "nbformat_minor": 2
}
